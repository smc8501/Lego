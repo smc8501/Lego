{
 "cells": [
  {
   "cell_type": "markdown",
   "metadata": {},
   "source": [
    "# EVR3 Gyro Boy Lego Robot"
   ]
  },
  {
   "cell_type": "markdown",
   "metadata": {},
   "source": [
    "During extra-curricular activities, I have had the pleasure to get training on how to use the EV3 Lego Gyro Boy Robot. \n",
    "\n",
    "In this repository I have programs that uses the color sensor and the ultrasonic sensor. These are simple programs but uses a complex algorithm to self-balance itself which depends on the angle of the Gyro Boy (measured by the Gyro Sensor), the time that passes and the speed of the robot."
   ]
  }
 ],
 "metadata": {
  "kernelspec": {
   "display_name": "Python 3 (ipykernel)",
   "language": "python",
   "name": "python3"
  },
  "language_info": {
   "codemirror_mode": {
    "name": "ipython",
    "version": 3
   },
   "file_extension": ".py",
   "mimetype": "text/x-python",
   "name": "python",
   "nbconvert_exporter": "python",
   "pygments_lexer": "ipython3",
   "version": "3.9.7"
  },
  "vscode": {
   "interpreter": {
    "hash": "aee8b7b246df8f9039afb4144a1f6fd8d2ca17a180786b69acc140d282b71a49"
   }
  }
 },
 "nbformat": 4,
 "nbformat_minor": 2
}
